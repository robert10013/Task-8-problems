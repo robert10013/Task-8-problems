{
 "cells": [
  {
   "cell_type": "code",
   "execution_count": 15,
   "metadata": {},
   "outputs": [],
   "source": [
    "#1The List is[10,501,22,37,100,999,87,351]\n",
    "def __init__(self,l):\n",
    "    self.l=l\n",
    "    c=circle(l=['10','501','22','37','100','999','87','351'])\n",
    "    print(\"the given list in class is\",c.l)"
   ]
  },
  {
   "cell_type": "code",
   "execution_count": 19,
   "metadata": {},
   "outputs": [],
   "source": [
    "#2 create a class private variable named pi=3.141\n",
    "def __init__(self,r):\n",
    "        self.r=r\n",
    "        def area(self):\n",
    "                self.__pi=3.141#creating a private variable in class\n",
    "                return self.__pi*self.r*self.r\n",
    "        a=aop(5)\n",
    "        print(\"area of a circle by using private variable in class  is\",a.area())"
   ]
  },
  {
   "cell_type": "code",
   "execution_count": 21,
   "metadata": {},
   "outputs": [],
   "source": [
    "#3 From the given List create two class Methods Area and Perimeter which will be going to calculate the Area\n",
    "def __init__(self,l):\n",
    "        self.l=l\n",
    "        self.pi=3.141\n",
    "        def area(self):\n",
    "              print(\"the area of circle of the given list is\")\n",
    "              for i in range(8):\n",
    "                     print(self.pi*self.l[i]*self.l[i])\n",
    "                     def perimeter(self):\n",
    "                           print(\"the perimeter of circle of the given list is\")\n",
    "                           for i in range(8):\n",
    "                                  print(2*self.pi*self.l[i])\n",
    "                                  c=list1(l=[10,501,22,37,100,999,87,351])\n",
    "                                  print(c.area())\n",
    "                                  print(c.perimeter())\n"
   ]
  }
 ],
 "metadata": {
  "kernelspec": {
   "display_name": "Python 3",
   "language": "python",
   "name": "python3"
  },
  "language_info": {
   "codemirror_mode": {
    "name": "ipython",
    "version": 3
   },
   "file_extension": ".py",
   "mimetype": "text/x-python",
   "name": "python",
   "nbconvert_exporter": "python",
   "pygments_lexer": "ipython3",
   "version": "3.12.2"
  }
 },
 "nbformat": 4,
 "nbformat_minor": 2
}
